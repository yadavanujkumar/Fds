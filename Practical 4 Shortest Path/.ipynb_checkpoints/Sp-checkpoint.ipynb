{
 "cells": [
  {
   "cell_type": "code",
   "execution_count": 1,
   "id": "575d0545-8854-46c7-8b7c-ac9c637ea7e3",
   "metadata": {},
   "outputs": [
    {
     "name": "stdout",
     "output_type": "stream",
     "text": [
      "the created heap is:  [1, 3, 9, 7, 5]\n"
     ]
    }
   ],
   "source": [
    "import heapq\n",
    "li = [5,7,9,1,3]\n",
    "heapq.heapify(li)\n",
    "print(\"the created heap is: \", end=\" \")\n",
    "print(list(li))"
   ]
  },
  {
   "cell_type": "code",
   "execution_count": 2,
   "id": "f822a6ca-8f33-4536-b33b-b71c140b8ef9",
   "metadata": {},
   "outputs": [
    {
     "name": "stdout",
     "output_type": "stream",
     "text": [
      "the modified heap push after push is:  [1, 3, 4, 7, 5, 9]\n"
     ]
    }
   ],
   "source": [
    "heapq.heappush(li, 4)\n",
    "print(\"the modified heap push after push is: \", end=\" \")\n",
    "print(list(li))"
   ]
  },
  {
   "cell_type": "code",
   "execution_count": null,
   "id": "f0a1f9db-35fe-4e0c-9fca-3c78e240a171",
   "metadata": {},
   "outputs": [],
   "source": [
    "import heapq\n",
    "from collections import defaultdict\n",
    "\n",
    "def shortestPath(graph, src, dest):\n",
    "    # Priority queue for Dijkstra's algorithm (min-heap)\n",
    "    h = []\n",
    "    # Dictionary to store the shortest path cost to each vertex\n",
    "    dist = {src: 0}\n",
    "    # Dictionary to store the previous vertex on the shortest path\n",
    "    parent = {src: None}\n",
    "\n",
    "    # Push the source into the heap with cost 0\n",
    "    heapq.heappush(h, (0, src))\n",
    "\n",
    "    while h:\n",
    "        # Pop the vertex with the smallest distance (cost)\n",
    "        curr_cost, curr_vtx = heapq.heappop(h)\n",
    "\n",
    "        # If we reach the destination, reconstruct the path\n",
    "        if curr_vtx == dest:\n",
    "            path = []\n",
    "            while curr_vtx is not None:\n",
    "                path.append(curr_vtx)\n",
    "                curr_vtx = parent[curr_vtx]\n",
    "            path.reverse()\n",
    "            print(f\"Path Exists from {src} to {dest} with cost {curr_cost}\")\n",
    "            print(\"Path:\", \" -> \".join(path))\n",
    "            return\n",
    "\n",
    "        # Visit each neighbor of the current vertex\n",
    "        for neigh, neigh_cost in graph[curr_vtx]:\n",
    "            new_cost = curr_cost + neigh_cost\n",
    "            # If the new cost is better (smaller), update and push to heap\n",
    "            if neigh not in dist or new_cost < dist[neigh]:\n",
    "                dist[neigh] = new_cost\n",
    "                parent[neigh] = curr_vtx\n",
    "                heapq.heappush(h, (new_cost, neigh))\n",
    "                \n",
    "    print(f\"No path exists from {src} to {dest}.\")\n",
    "\n",
    "# Input graph\n",
    "graph = defaultdict(list)\n",
    "v, e = map(int, input(\"Enter number of vertices and edges: \").split())\n",
    "for _ in range(e):\n",
    "    u, v, w = input(\"Enter edge and weight (u v w): \").split()\n",
    "    graph[u].append((v, int(w)))\n",
    "\n",
    "src, dest = input(\"Enter source and destination: \").split()\n",
    "# Call the shortestPath function\n",
    "shortestPath(graph, src, dest)\n"
   ]
  },
  {
   "cell_type": "code",
   "execution_count": null,
   "id": "20c5b8ab-1200-4796-b8ac-6b28bfbf9b18",
   "metadata": {},
   "outputs": [],
   "source": [
    "INF = float('inf')\n",
    "\n",
    "def printmatrix(m):\n",
    "    # Print a matrix in a readable format\n",
    "    r, c = len(m), len(m[0])\n",
    "    for i in range(r):\n",
    "        for j in range(c):\n",
    "            # Print each element with a width of 5 for better alignment\n",
    "            if m[i][j] == INF:\n",
    "                print(\"INF\", end=\"\\t\")\n",
    "            else:\n",
    "                print(f\"{m[i][j]:5}\", end=\"\\t\")\n",
    "        print()\n",
    "\n",
    "def floydWarshall(v, e):\n",
    "    # Create a distance matrix with infinity and 0 on the diagonal\n",
    "    m = [[INF] * v for _ in range(v)]\n",
    "\n",
    "    for i in range(v):\n",
    "        m[i][i] = 0  # Distance from a vertex to itself is 0\n",
    "\n",
    "    # Take input edges and weights\n",
    "    for _ in range(e):\n",
    "        src, dest, wt = map(int, input(\"Enter edge (src, dest, weight): \").split())\n",
    "        m[src][dest] = wt\n",
    "\n",
    "    print(\"Initial Matrix:\")\n",
    "    printmatrix(m)\n",
    "    print(\"..............................\")\n",
    "\n",
    "    # Floyd-Warshall Algorithm: O(v^3) time complexity\n",
    "    for k in range(v):\n",
    "        for i in range(v):\n",
    "            for j in range(v):\n",
    "                # If a shorter path exists through vertex k, update the path\n",
    "                if m[i][k] + m[k][j] < m[i][j]:\n",
    "                    m[i][j] = m[i][k] + m[k][j]\n",
    "\n",
    "        # After each k iteration, print the updated matrix\n",
    "        print(f\"After iteration {k + 1}:\")\n",
    "        printmatrix(m)\n",
    "        print(\".............................\")\n",
    "\n",
    "    return m\n",
    "\n",
    "def main():\n",
    "    # Input number of vertices and edges\n",
    "    v, e = map(int, input(\"Enter number of Vertices and Edges: \").split())\n",
    "\n",
    "    # Run Floyd-Warshall Algorithm\n",
    "    m = floydWarshall(v, e)\n",
    "\n",
    "    # Display the final shortest path matrix\n",
    "    print(\"Final Shortest Path Matrix:\")\n",
    "    printmatrix(m)\n",
    "\n",
    "if __name__ == \"__main__\":\n",
    "    main()"
   ]
  }
 ],
 "metadata": {
  "kernelspec": {
   "display_name": "Python 3 (ipykernel)",
   "language": "python",
   "name": "python3"
  },
  "language_info": {
   "codemirror_mode": {
    "name": "ipython",
    "version": 3
   },
   "file_extension": ".py",
   "mimetype": "text/x-python",
   "name": "python",
   "nbconvert_exporter": "python",
   "pygments_lexer": "ipython3",
   "version": "3.9.13"
  }
 },
 "nbformat": 4,
 "nbformat_minor": 5
}
