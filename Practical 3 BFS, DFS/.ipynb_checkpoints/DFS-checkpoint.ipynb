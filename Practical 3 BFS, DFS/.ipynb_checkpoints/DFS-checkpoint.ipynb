{
 "cells": [
  {
   "cell_type": "code",
   "execution_count": null,
   "id": "4516fdc2-bc20-4a80-823a-bc10759cb614",
   "metadata": {},
   "outputs": [],
   "source": [
    "class Node:\n",
    "    def __init__(self, key):\n",
    "        self.data = key\n",
    "        self.left = None\n",
    "        self.right = None\n",
    "\n",
    "# Function to print inorder traversal of tree\n",
    "def inorderTraversal(root):\n",
    "    if root:\n",
    "        inorderTraversal(root.left)  # Visit left subtree\n",
    "        print(root.data, end=\" \")    # Visit root\n",
    "        inorderTraversal(root.right)  # Visit right subtree\n",
    "\n",
    "if __name__ == '__main__':\n",
    "    root = Node(input(\"Enter root node: \"))\n",
    "    root.left = Node(input(\"Enter left to root node: \"))\n",
    "    root.right = Node(input(\"Enter right to root node: \"))\n",
    "    root.right.left = Node(input(\"Enter left to right of root node: \"))\n",
    "    root.left.left = Node(input(\"Enter left to left of root node: \"))\n",
    "    root.left.right = Node(input(\"Enter right to left of root node: \"))\n",
    "    root.left.left.left = Node(input(\"Enter left to left to left of root node: \"))\n",
    "    root.left.left.right = Node(input(\"Enter right to left to left of root node: \"))\n",
    "\n",
    "    print(\"\\nInorder DFS traversal of the binary tree:\")\n",
    "    inorderTraversal(root)\n"
   ]
  }
 ],
 "metadata": {
  "kernelspec": {
   "display_name": "Python 3 (ipykernel)",
   "language": "python",
   "name": "python3"
  },
  "language_info": {
   "codemirror_mode": {
    "name": "ipython",
    "version": 3
   },
   "file_extension": ".py",
   "mimetype": "text/x-python",
   "name": "python",
   "nbconvert_exporter": "python",
   "pygments_lexer": "ipython3",
   "version": "3.9.13"
  }
 },
 "nbformat": 4,
 "nbformat_minor": 5
}
