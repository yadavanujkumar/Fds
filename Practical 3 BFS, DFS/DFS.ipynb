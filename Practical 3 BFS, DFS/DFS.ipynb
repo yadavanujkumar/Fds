{
 "cells": [
  {
   "cell_type": "code",
   "execution_count": null,
   "id": "4516fdc2-bc20-4a80-823a-bc10759cb614",
   "metadata": {},
   "outputs": [],
   "source": [
    "class Node:\n",
    "    def __init__(self, key):\n",
    "        self.data = key\n",
    "        self.left = None\n",
    "        self.right = None\n",
    "\n",
    "def inorder(root):\n",
    "    if root:\n",
    "        inorder(root.left)  # Visit left subtree\n",
    "        print(root.data, end=\" \")  # Print node value\n",
    "        inorder(root.right)  # Visit right subtree\n",
    "def postoreder(root):\n",
    "    if root:\n",
    "        postoreder(root.left)\n",
    "        postoreder(root.right)\n",
    "        print(root.data,end=\" \")\n",
    "def preorder(root):\n",
    "    if root:\n",
    "        print(root.data,end=\" \")\n",
    "        postoreder(root.left)\n",
    "        postoreder(root.right)\n",
    "        \n",
    "\n",
    "if __name__ == '__main__':\n",
    "    root = Node(input(\"Enter root node: \"))\n",
    "    root.left = Node(input(\"Enter left child of root: \"))\n",
    "    root.right = Node(input(\"Enter right child of root: \"))\n",
    "\n",
    "    root.right.left = Node(input(\"Enter left child of right node: \"))\n",
    "    root.left.left = Node(input(\"Enter left child of left node: \"))\n",
    "    root.left.right = Node(input(\"Enter right child of left node: \"))\n",
    "\n",
    "    root.left.left.left = Node(input(\"Enter left child of left-left node: \"))\n",
    "    root.left.left.right = Node(input(\"Enter right child of left-left node: \"))\n",
    "\n",
    "    print(\"\\nInorder DFS traversal of the binary tree:\")\n",
    "    inorder(root)\n",
    "    print(\"\\nPostorder DFS traversal of the binary tree:\")\n",
    "    postoreder(root)\n",
    "    print(\"\\Pre order DFS traversal of the binary tree:\")\n",
    "    preorder(root)\n"
   ]
  }
 ],
 "metadata": {
  "kernelspec": {
   "display_name": "Python 3 (ipykernel)",
   "language": "python",
   "name": "python3"
  },
  "language_info": {
   "codemirror_mode": {
    "name": "ipython",
    "version": 3
   },
   "file_extension": ".py",
   "mimetype": "text/x-python",
   "name": "python",
   "nbconvert_exporter": "python",
   "pygments_lexer": "ipython3",
   "version": "3.9.13"
  }
 },
 "nbformat": 4,
 "nbformat_minor": 5
}
