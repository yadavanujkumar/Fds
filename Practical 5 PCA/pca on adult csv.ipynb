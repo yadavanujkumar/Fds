{
 "cells": [
  {
   "cell_type": "code",
   "execution_count": null,
   "id": "5848f146-7f6d-4ebb-a7a2-feddcd4a29bb",
   "metadata": {},
   "outputs": [],
   "source": [
    "import pandas as pd\n",
    "from sklearn.preprocessing import StandardScaler\n",
    "from sklearn.decomposition import PCA\n",
    "# Step 1: Load the dataset\n",
    "file_path = 'adult.csv' # Replace with the correct file path\n",
    "data = pd.read_csv(file_path)\n",
    "# Step 2: Select numeric columns\n",
    "numeric_cols = ['age', 'education.num', 'capital.gain', 'capital.loss',\n",
    "numeric_data = data[numeric_cols]\n",
    "# Step 3: Standardize the data\n",
    "scaler = StandardScaler()\n",
    "standardized_data = scaler.fit_transform(numeric_data)\n",
    "# Step 4: Apply PCA\n",
    "pca = PCA(n_components=2) # Set the number of components\n",
    "pca_data = pca.fit_transform(standardized_data)\n",
    "# Step 5: Explained variance\n",
    "explained_variance = pca.explained_variance_ratio_\n",
    "# Step 6: Output results\n",
    "print(\"Explained Variance Ratio (Top 2 Components):\", explained_varianc\n",
    "print(\"\\nFirst 5 rows of PCA-transformed data:\\n\", pca_data[:5])"
   ]
  }
 ],
 "metadata": {
  "kernelspec": {
   "display_name": "Python 3 (ipykernel)",
   "language": "python",
   "name": "python3"
  },
  "language_info": {
   "codemirror_mode": {
    "name": "ipython",
    "version": 3
   },
   "file_extension": ".py",
   "mimetype": "text/x-python",
   "name": "python",
   "nbconvert_exporter": "python",
   "pygments_lexer": "ipython3",
   "version": "3.9.13"
  }
 },
 "nbformat": 4,
 "nbformat_minor": 5
}
