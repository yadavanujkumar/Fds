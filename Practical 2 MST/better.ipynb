{
 "cells": [
  {
   "cell_type": "code",
   "execution_count": 8,
   "id": "f180d7ad-e70d-4ff8-933e-315835eb0bdb",
   "metadata": {},
   "outputs": [
    {
     "name": "stdout",
     "output_type": "stream",
     "text": [
      "Edges in the Minimum Spanning Tree:\n",
      "3 -- 2 == 1\n",
      "0 -- 3 == 3\n",
      "0 -- 1 == 4\n",
      "Total MST Cost: 8\n"
     ]
    }
   ],
   "source": [
    "# Simplified Kruskal's Algorithm for MST\n",
    "class Graph:\n",
    "    def __init__(self, vertices):\n",
    "        self.V = vertices  # Number of vertices\n",
    "        self.edges = []  # List to store graph edges\n",
    "    \n",
    "    def add_edge(self, u, v, w):\n",
    "        self.edges.append((w, u, v))  # Storing edges as (weight, node1, node2) for sorting\n",
    "    \n",
    "    def find(self, parent, i):\n",
    "        if parent[i] != i:\n",
    "            parent[i] = self.find(parent, parent[i])  # Path compression\n",
    "        return parent[i]\n",
    "    \n",
    "    def union(self, parent, rank, x, y):\n",
    "        if rank[x] < rank[y]:\n",
    "            parent[x] = y\n",
    "        elif rank[x] > rank[y]:\n",
    "            parent[y] = x\n",
    "        else:\n",
    "            parent[y] = x\n",
    "            rank[x] += 1\n",
    "    \n",
    "    def kruskal_mst(self):\n",
    "        self.edges.sort()  # Sorting edges by weight\n",
    "        parent = list(range(self.V))  # Parent array for union-find\n",
    "        rank = [0] * self.V\n",
    "        mst = []  # Store MST edges\n",
    "        total_cost = 0\n",
    "\n",
    "        for weight, u, v in self.edges:\n",
    "            root_u, root_v = self.find(parent, u), self.find(parent, v)\n",
    "            if root_u != root_v:\n",
    "                mst.append((u, v, weight))\n",
    "                total_cost += weight\n",
    "                self.union(parent, rank, root_u, root_v)\n",
    "        \n",
    "        print(\"Edges in the Minimum Spanning Tree:\")\n",
    "        for u, v, w in mst:\n",
    "            print(f\"{u} -- {v} == {w}\")\n",
    "        print(\"Total MST Cost:\", total_cost)\n",
    "\n",
    "# Example Usage\n",
    "g = Graph(4) \n",
    "g.add_edge(0, 1, 4) \n",
    "g.add_edge(0, 3, 3) \n",
    "g.add_edge(1, 2, 7) \n",
    "g.add_edge(3, 2, 1) \n",
    "# Function call \n",
    "g.kruskal_mst() "
   ]
  },
  {
   "cell_type": "code",
   "execution_count": 25,
   "id": "00308209-5db3-46b6-bd1f-f4ecf2a86fae",
   "metadata": {},
   "outputs": [
    {
     "name": "stdout",
     "output_type": "stream",
     "text": [
      "Edge : Weight\n",
      "0 - 1 : 9\n",
      "1 - 3 : 19\n",
      "3 - 4 : 31\n",
      "3 - 2 : 51\n"
     ]
    }
   ],
   "source": [
    "INF = float('inf')\n",
    "\n",
    "def prim_mst(graph):\n",
    "    N = len(graph)\n",
    "    selected = [False] * N\n",
    "    selected[0] = True\n",
    "    print(\"Edge : Weight\")\n",
    "    \n",
    "    for _ in range(N - 1):\n",
    "        min_edge = (INF, -1, -1)  # (weight, start, end)\n",
    "        for u in range(N):\n",
    "            if selected[u]:\n",
    "                for v in range(N):\n",
    "                    if not selected[v] and graph[u][v]:\n",
    "                        min_edge = min(min_edge, (graph[u][v], u, v))\n",
    "        \n",
    "        weight, u, v = min_edge\n",
    "        if u != -1 and v != -1:\n",
    "            print(f\"{u} - {v} : {weight}\")\n",
    "            selected[v] = True\n",
    "\n",
    "# Example Graph (Adjacency Matrix)\n",
    "graph = [\n",
    "    [0, 9, 75, 0, 0],\n",
    "    [9, 0, 95, 19, 42],\n",
    "    [75, 95, 0, 51, 65],\n",
    "    [0, 19, 51, 0, 31],\n",
    "    [0, 42, 66, 31, 0]\n",
    "]\n",
    "prim_mst(graph)\n"
   ]
  },
  {
   "cell_type": "code",
   "execution_count": null,
   "id": "c7dfaa7a-7619-43e7-89d0-4bca057c7d4c",
   "metadata": {},
   "outputs": [],
   "source": []
  }
 ],
 "metadata": {
  "kernelspec": {
   "display_name": "Python 3 (ipykernel)",
   "language": "python",
   "name": "python3"
  },
  "language_info": {
   "codemirror_mode": {
    "name": "ipython",
    "version": 3
   },
   "file_extension": ".py",
   "mimetype": "text/x-python",
   "name": "python",
   "nbconvert_exporter": "python",
   "pygments_lexer": "ipython3",
   "version": "3.9.13"
  }
 },
 "nbformat": 4,
 "nbformat_minor": 5
}
